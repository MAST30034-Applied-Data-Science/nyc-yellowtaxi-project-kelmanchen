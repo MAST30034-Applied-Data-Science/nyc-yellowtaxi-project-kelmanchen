{
 "cells": [
  {
   "cell_type": "markdown",
   "metadata": {
    "heading_collapsed": true
   },
   "source": [
    "This notebook preprocesses the following raw data for the period Dec 2019 to Feb 2020 and Dec 2021 to Feb 2022:\n",
    "- NYC Yellow Taxi Data \n",
    "- NYC For Hire Vehicles (FHV) Data"
   ]
  },
  {
   "cell_type": "code",
   "execution_count": 29,
   "metadata": {},
   "outputs": [],
   "source": [
    "from pyspark.sql import SparkSession\n",
    "import pyspark.sql.functions as F\n",
    "\n",
    "\n",
    "# Create a spark session (which will run spark jobs)\n",
    "spark = (\n",
    "    SparkSession.builder.appName(\"MAST30034 Project 1\")\n",
    "    .config(\"spark.sql.repl.eagerEval.enabled\", True) \n",
    "    .config(\"spark.sql.parquet.cacheMetadata\", \"true\")\n",
    "    .getOrCreate()\n",
    ")"
   ]
  },
  {
   "cell_type": "markdown",
   "metadata": {},
   "source": [
    "<h2><u>Preprocess TLC Data</u></h2>"
   ]
  },
  {
   "cell_type": "code",
   "execution_count": 77,
   "metadata": {},
   "outputs": [],
   "source": [
    "# load yellow taxi data\n",
    "yellow_2019_12_sdf = spark.read.parquet('../data/raw/NYC TLC Data/yellow_tripdata_2019-12.parquet', header=True)\n",
    "yellow_2020_01_sdf = spark.read.parquet('../data/raw/NYC TLC Data/yellow_tripdata_2020-01.parquet', header=True)\n",
    "yellow_2020_02_sdf = spark.read.parquet('../data/raw/NYC TLC Data/yellow_tripdata_2020-02.parquet', header=True)\n",
    "\n",
    "yellow_2021_12_sdf = spark.read.parquet('../data/raw/NYC TLC Data/yellow_tripdata_2021-12.parquet', header=True)\n",
    "yellow_2022_01_sdf = spark.read.parquet('../data/raw/NYC TLC Data/yellow_tripdata_2022-01.parquet', header=True)\n",
    "yellow_2022_02_sdf = spark.read.parquet('../data/raw/NYC TLC Data/yellow_tripdata_2022-02.parquet', header=True)\n",
    "\n",
    "# load FHV data\n",
    "fhvhv_2019_12_sdf = spark.read.parquet('../data/raw/NYC TLC Data/fhvhv_tripdata_2019-12.parquet', header=True)\n",
    "fhvhv_2020_01_sdf = spark.read.parquet('../data/raw/NYC TLC Data/fhvhv_tripdata_2020-01.parquet', header=True)\n",
    "fhvhv_2020_02_sdf = spark.read.parquet('../data/raw/NYC TLC Data/fhvhv_tripdata_2020-02.parquet', header=True)\n",
    "\n",
    "fhvhv_2021_12_sdf = spark.read.parquet('../data/raw/NYC TLC Data/fhvhv_tripdata_2021-12.parquet', header=True)\n",
    "fhvhv_2022_01_sdf = spark.read.parquet('../data/raw/NYC TLC Data/fhvhv_tripdata_2022-01.parquet', header=True)\n",
    "fhvhv_2022_02_sdf = spark.read.parquet('../data/raw/NYC TLC Data/fhvhv_tripdata_2022-02.parquet', header=True)\n",
    "\n",
    "# merge datasets categorised by type and period\n",
    "yellow_19_20_sdf = yellow_2019_12_sdf.unionAll(yellow_2020_01_sdf).unionAll(yellow_2020_02_sdf)\n",
    "yellow_21_22_sdf = yellow_2021_12_sdf.unionAll(yellow_2022_01_sdf).unionAll(yellow_2022_02_sdf)\n",
    "\n",
    "fhvhv_19_20_sdf = fhvhv_2019_12_sdf.unionAll(fhvhv_2020_01_sdf).unionAll(fhvhv_2020_02_sdf)\n",
    "fhvhv_21_22_sdf = fhvhv_2021_12_sdf.unionAll(fhvhv_2022_01_sdf).unionAll(fhvhv_2022_02_sdf)"
   ]
  },
  {
   "cell_type": "markdown",
   "metadata": {},
   "source": [
    "<h3>Feature engineering</h3>"
   ]
  },
  {
   "cell_type": "markdown",
   "metadata": {},
   "source": [
    "**Yellow Taxis**"
   ]
  },
  {
   "cell_type": "code",
   "execution_count": 75,
   "metadata": {},
   "outputs": [],
   "source": [
    "# trip duration in minutes\n",
    "yellow_19_20_sdf = yellow_19_20_sdf.withColumn(\n",
    "    'trip_time',\n",
    "    (F.col('tpep_dropoff_datetime').cast('long') - F.col('tpep_pickup_datetime').cast('long')/60)\n",
    ")\n",
    "\n",
    "# pickup day is weekend or not\n",
    "yellow_19_20_sdf = yellow_19_20_sdf.withColumn(\n",
    "    'is_weekend',\n",
    "    F.dayofweek(F.col('tpep_pickup_datetime')).isin([1, 7])\n",
    ")\n",
    "\n",
    "# tip percentage over total amount paid\n",
    "yellow_19_20_sdf = yellow_19_20_sdf.withColumn(\n",
    "    'tip_percent',\n",
    "    (F.col('tip_amount') / F.col('total_amount')) * 100\n",
    ")\n",
    "\n",
    "# drop unnecessary columns\n",
    "yellow_19_20_sdf = yellow_19_20_sdf.drop(*['VendorID', 'RatecodeID', 'store_and_fwd_flag', 'extra', 'mta_tax', 'tolls_amount', 'improvement_surcharge', 'congestion_surcharge', 'airport_fee'])"
   ]
  },
  {
   "cell_type": "markdown",
   "metadata": {},
   "source": [
    "**Rideshares**"
   ]
  },
  {
   "cell_type": "code",
   "execution_count": 78,
   "metadata": {},
   "outputs": [],
   "source": [
    "# trip duration in mniutes\n",
    "fhvhv_19_20_sdf = fhvhv_19_20_sdf.withColumn(\n",
    "    'trip_time',\n",
    "    F.col('trip_time')/60\n",
    ")\n",
    "\n",
    "# fill null values in airport_fee with 0\n",
    "fhvhv_19_20_sdf = fhvhv_19_20_sdf.na.fill(value=0, subset=['airport_fee'])\n",
    "\n",
    "# total amount paid by passenger\n",
    "fhvhv_19_20_sdf = fhvhv_19_20_sdf.withColumn(\n",
    "    'total_amount',\n",
    "    F.col('base_passenger_fare') + F.col('tolls') + F.col('sales_tax') + F.col('tips') + F.col('airport_fee')\n",
    ")\n",
    "\n",
    "# pickup day is weekend or not\n",
    "fhvhv_19_20_sdf = fhvhv_19_20_sdf.withColumn(\n",
    "    'is_weekend',\n",
    "    F.dayofweek(F.col('pickup_datetime')).isin([1, 7])\n",
    ")\n",
    "\n",
    "# tip percentage over total amount paid\n",
    "fhvhv_19_20_sdf = fhvhv_19_20_sdf.withColumn(\n",
    "    'tip_percent',\n",
    "    (F.col('tips') / F.col('total_amount')) * 100\n",
    ")\n",
    "\n",
    "# drop unnecessary columns\n",
    "fhvhv_19_20_sdf = fhvhv_19_20_sdf.drop(*['dispatching_base_num', 'originating_base_num', 'request_datetime', 'on_scene_datetime', 'base_passenger_fare', 'tolls', 'bcf', 'sales_tax', 'congestion_surcharge', 'airport_fee', 'shared_request_flag', 'shared_match_flag', 'access_a_ride_flag', 'wav_request_flag', 'wav_match_flag'])"
   ]
  }
 ],
 "metadata": {
  "kernelspec": {
   "display_name": "Python 3.10.4 64-bit",
   "language": "python",
   "name": "python3"
  },
  "language_info": {
   "codemirror_mode": {
    "name": "ipython",
    "version": 3
   },
   "file_extension": ".py",
   "mimetype": "text/x-python",
   "name": "python",
   "nbconvert_exporter": "python",
   "pygments_lexer": "ipython3",
   "version": "3.10.4"
  },
  "latex_envs": {
   "LaTeX_envs_menu_present": true,
   "autoclose": false,
   "autocomplete": true,
   "bibliofile": "biblio.bib",
   "cite_by": "apalike",
   "current_citInitial": 1,
   "eqLabelWithNumbers": true,
   "eqNumInitial": 1,
   "hotkeys": {
    "equation": "Ctrl-E",
    "itemize": "Ctrl-I"
   },
   "labels_anchors": false,
   "latex_user_defs": false,
   "report_style_numbering": false,
   "user_envs_cfg": false
  },
  "toc": {
   "base_numbering": 1,
   "nav_menu": {},
   "number_sections": true,
   "sideBar": true,
   "skip_h1_title": false,
   "title_cell": "Table of Contents",
   "title_sidebar": "Contents",
   "toc_cell": false,
   "toc_position": {},
   "toc_section_display": true,
   "toc_window_display": false
  },
  "varInspector": {
   "cols": {
    "lenName": 16,
    "lenType": 16,
    "lenVar": 40
   },
   "kernels_config": {
    "python": {
     "delete_cmd_postfix": "",
     "delete_cmd_prefix": "del ",
     "library": "var_list.py",
     "varRefreshCmd": "print(var_dic_list())"
    },
    "r": {
     "delete_cmd_postfix": ") ",
     "delete_cmd_prefix": "rm(",
     "library": "var_list.r",
     "varRefreshCmd": "cat(var_dic_list()) "
    }
   },
   "types_to_exclude": [
    "module",
    "function",
    "builtin_function_or_method",
    "instance",
    "_Feature"
   ],
   "window_display": false
  },
  "vscode": {
   "interpreter": {
    "hash": "916dbcbb3f70747c44a77c7bcd40155683ae19c65e1c03b4aa3499c5328201f1"
   }
  }
 },
 "nbformat": 4,
 "nbformat_minor": 4
}
