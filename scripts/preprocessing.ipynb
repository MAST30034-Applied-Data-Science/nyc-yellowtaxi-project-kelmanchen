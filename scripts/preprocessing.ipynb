{
 "cells": [
  {
   "cell_type": "markdown",
   "metadata": {
    "heading_collapsed": true
   },
   "source": [
    "This notebook preprocesses the following raw data for the period Dec 2019 to Feb 2020 and Dec 2021 to Feb 2022:\n",
    "- NYC Yellow Taxi Data \n",
    "- NYC For Hire Vehicles (FHV) Data"
   ]
  },
  {
   "cell_type": "code",
   "execution_count": 22,
   "metadata": {},
   "outputs": [],
   "source": [
    "from pyspark.sql import SparkSession\n",
    "import pyspark.sql.functions as F\n",
    "import matplotlib.pyplot as plt\n",
    "import seaborn as sns\n",
    "\n",
    "# Create a spark session (which will run spark jobs)\n",
    "spark = (\n",
    "    SparkSession.builder.appName(\"MAST30034 Project 1\")\n",
    "    .config(\"spark.sql.repl.eagerEval.enabled\", True) \n",
    "    .config(\"spark.sql.parquet.cacheMetadata\", \"true\")\n",
    "    .getOrCreate()\n",
    ")"
   ]
  },
  {
   "cell_type": "markdown",
   "metadata": {},
   "source": [
    "<h2><u>Preprocess TLC Data</u></h2>"
   ]
  },
  {
   "cell_type": "code",
   "execution_count": 32,
   "metadata": {},
   "outputs": [],
   "source": [
    "# load yellow taxi data\n",
    "yellow_2019_12_sdf = spark.read.parquet('../data/raw/NYC TLC Data/yellow_tripdata_2019-12.parquet', header=True)\n",
    "yellow_2020_01_sdf = spark.read.parquet('../data/raw/NYC TLC Data/yellow_tripdata_2020-01.parquet', header=True)\n",
    "yellow_2020_02_sdf = spark.read.parquet('../data/raw/NYC TLC Data/yellow_tripdata_2020-02.parquet', header=True)\n",
    "\n",
    "yellow_2021_12_sdf = spark.read.parquet('../data/raw/NYC TLC Data/yellow_tripdata_2021-12.parquet', header=True)\n",
    "yellow_2022_01_sdf = spark.read.parquet('../data/raw/NYC TLC Data/yellow_tripdata_2022-01.parquet', header=True)\n",
    "yellow_2022_02_sdf = spark.read.parquet('../data/raw/NYC TLC Data/yellow_tripdata_2022-02.parquet', header=True)\n",
    "\n",
    "# load FHV data\n",
    "fhvhv_2019_12_sdf = spark.read.parquet('../data/raw/NYC TLC Data/fhvhv_tripdata_2019-12.parquet', header=True)\n",
    "fhvhv_2020_01_sdf = spark.read.parquet('../data/raw/NYC TLC Data/fhvhv_tripdata_2020-01.parquet', header=True)\n",
    "fhvhv_2020_02_sdf = spark.read.parquet('../data/raw/NYC TLC Data/fhvhv_tripdata_2020-02.parquet', header=True)\n",
    "\n",
    "fhvhv_2021_12_sdf = spark.read.parquet('../data/raw/NYC TLC Data/fhvhv_tripdata_2021-12.parquet', header=True)\n",
    "fhvhv_2022_01_sdf = spark.read.parquet('../data/raw/NYC TLC Data/fhvhv_tripdata_2022-01.parquet', header=True)\n",
    "fhvhv_2022_02_sdf = spark.read.parquet('../data/raw/NYC TLC Data/fhvhv_tripdata_2022-02.parquet', header=True)\n",
    "\n",
    "# merge datasets categorised by type and period\n",
    "yellow_19_20_sdf = yellow_2019_12_sdf.unionAll(yellow_2020_01_sdf).unionAll(yellow_2020_02_sdf)\n",
    "yellow_21_22_sdf = yellow_2021_12_sdf.unionAll(yellow_2022_01_sdf).unionAll(yellow_2022_02_sdf)\n",
    "\n",
    "fhvhv_19_20_sdf = fhvhv_2019_12_sdf.unionAll(fhvhv_2020_01_sdf).unionAll(fhvhv_2020_02_sdf)\n",
    "fhvhv_21_22_sdf = fhvhv_2021_12_sdf.unionAll(fhvhv_2022_01_sdf).unionAll(fhvhv_2022_02_sdf)"
   ]
  },
  {
   "cell_type": "markdown",
   "metadata": {},
   "source": [
    "<h3>Feature engineering</h3>"
   ]
  },
  {
   "cell_type": "markdown",
   "metadata": {},
   "source": [
    "**Yellow Taxis**"
   ]
  },
  {
   "cell_type": "code",
   "execution_count": 33,
   "metadata": {},
   "outputs": [],
   "source": [
    "# trip duration in minutes\n",
    "yellow_19_20_sdf = yellow_19_20_sdf.withColumn(\n",
    "    'trip_time',\n",
    "    (F.col('tpep_dropoff_datetime').cast('long') - F.col('tpep_pickup_datetime').cast('long'))/60\n",
    ")\n",
    "\n",
    "# pickup day is weekend or not\n",
    "yellow_19_20_sdf = yellow_19_20_sdf.withColumn(\n",
    "    'is_weekend',\n",
    "    F.dayofweek(F.col('tpep_pickup_datetime')).isin([1, 7])\n",
    ")\n",
    "\n",
    "# tip percentage over total amount paid\n",
    "yellow_19_20_sdf = yellow_19_20_sdf.withColumn(\n",
    "    'tip_percent',\n",
    "    (F.col('tip_amount') / F.col('total_amount')) * 100\n",
    ")"
   ]
  },
  {
   "cell_type": "markdown",
   "metadata": {},
   "source": [
    "**FHV**"
   ]
  },
  {
   "cell_type": "code",
   "execution_count": 48,
   "metadata": {},
   "outputs": [],
   "source": [
    "# trip duration in mniutes\n",
    "fhvhv_19_20_sdf = fhvhv_19_20_sdf.withColumn(\n",
    "    'trip_time',\n",
    "    F.col('trip_time')/60\n",
    ")\n",
    "\n",
    "# fill null values in airport_fee with 0\n",
    "fhvhv_19_20_sdf = fhvhv_19_20_sdf.na.fill(value=0, subset=['airport_fee'])\n",
    "\n",
    "# total amount paid by passenger\n",
    "fhvhv_19_20_sdf = fhvhv_19_20_sdf.withColumn(\n",
    "    'total_amount',\n",
    "    F.col('base_passenger_fare') + F.col('tolls') + F.col('sales_tax') + F.col('tips') + F.col('airport_fee')\n",
    ")\n",
    "\n",
    "# pickup day is weekend or not\n",
    "fhvhv_19_20_sdf = fhvhv_19_20_sdf.withColumn(\n",
    "    'is_weekend',\n",
    "    F.dayofweek(F.col('pickup_datetime')).isin([1, 7])\n",
    ")\n",
    "\n",
    "# tip percentage over total amount paid\n",
    "fhvhv_19_20_sdf = fhvhv_19_20_sdf.withColumn(\n",
    "    'tip_percent',\n",
    "    (F.col('tips') / F.col('total_amount')) * 100\n",
    ")"
   ]
  },
  {
   "cell_type": "markdown",
   "metadata": {},
   "source": [
    "<h3>Outlier Detection</h3>"
   ]
  },
  {
   "cell_type": "markdown",
   "metadata": {},
   "source": [
    "**Yellow Taxis**"
   ]
  },
  {
   "cell_type": "code",
   "execution_count": 44,
   "metadata": {},
   "outputs": [
    {
     "name": "stdout",
     "output_type": "stream",
     "text": [
      "Original data size:  19600692\n"
     ]
    },
    {
     "name": "stderr",
     "output_type": "stream",
     "text": [
      "                                                                                \r"
     ]
    },
    {
     "name": "stdout",
     "output_type": "stream",
     "text": [
      "Trip time cleaned size:  19543652\n",
      "Location ID cleaned size:  19506018\n"
     ]
    }
   ],
   "source": [
    "print(\"Original data size: \", yellow_19_20_sdf.count())\n",
    "print(\"Trip time cleaned size: \", yellow_19_20_sdf.where((F.col('trip_time') > 0) & (F.col('trip_time') < 300)).count())\n",
    "print(\"Location ID cleaned size: \", yellow_19_20_sdf.where(((F.col('PULocationID') >= 1) & (F.col('PULocationID') <= 263))\n",
    "                                                            | ((F.col('DOLocationID') >= 1) & (F.col('DOLocationID') <= 263))).count())"
   ]
  },
  {
   "cell_type": "code",
   "execution_count": 51,
   "metadata": {},
   "outputs": [
    {
     "name": "stderr",
     "output_type": "stream",
     "text": [
      "                                                                                \r"
     ]
    },
    {
     "data": {
      "text/plain": [
       "19450894"
      ]
     },
     "execution_count": 51,
     "metadata": {},
     "output_type": "execute_result"
    }
   ],
   "source": [
    "yellow_19_20_sdf_cleaned = yellow_19_20_sdf.where((F.col('trip_time') > 0) & (F.col('trip_time') < 300))\n",
    "yellow_19_20_sdf_cleaned = yellow_19_20_sdf_cleaned.where(((F.col('PULocationID') >= 1) & (F.col('PULocationID') <= 263))\n",
    "                                                            | ((F.col('DOLocationID') >= 1) & (F.col('DOLocationID') <= 263)))\n",
    "print(\"Cleaned data size:\", yellow_19_20_sdf_cleaned.count())     "
   ]
  },
  {
   "cell_type": "markdown",
   "metadata": {},
   "source": [
    "**FHV**"
   ]
  },
  {
   "cell_type": "code",
   "execution_count": 50,
   "metadata": {},
   "outputs": [
    {
     "name": "stdout",
     "output_type": "stream",
     "text": [
      "Original data size:  64538369\n"
     ]
    },
    {
     "name": "stderr",
     "output_type": "stream",
     "text": [
      "                                                                                \r"
     ]
    },
    {
     "name": "stdout",
     "output_type": "stream",
     "text": [
      "Trip time cleaned size:  64536919\n"
     ]
    },
    {
     "name": "stderr",
     "output_type": "stream",
     "text": [
      "[Stage 213:================================================>      (21 + 3) / 24]\r"
     ]
    },
    {
     "name": "stdout",
     "output_type": "stream",
     "text": [
      "Location ID cleaned size:  64536983\n"
     ]
    },
    {
     "name": "stderr",
     "output_type": "stream",
     "text": [
      "                                                                                \r"
     ]
    }
   ],
   "source": [
    "print(\"Original data size: \", fhvhv_19_20_sdf.count())\n",
    "print(\"Trip time cleaned size: \", fhvhv_19_20_sdf.where((F.col('trip_time') > 0) & (F.col('trip_time') < 300)).count())\n",
    "print(\"Location ID cleaned size: \", fhvhv_19_20_sdf.where(((F.col('PULocationID') >= 1) & (F.col('PULocationID') <= 263))\n",
    "                                                            | ((F.col('DOLocationID') >= 1) & (F.col('DOLocationID') <= 263))).count())"
   ]
  },
  {
   "cell_type": "code",
   "execution_count": 54,
   "metadata": {},
   "outputs": [
    {
     "name": "stderr",
     "output_type": "stream",
     "text": [
      "[Stage 222:================================================>      (21 + 3) / 24]\r"
     ]
    },
    {
     "name": "stdout",
     "output_type": "stream",
     "text": [
      "Cleaned data size: 64535536\n"
     ]
    },
    {
     "name": "stderr",
     "output_type": "stream",
     "text": [
      "                                                                                \r"
     ]
    }
   ],
   "source": [
    "fhvhv_19_20_sdf_cleaned = fhvhv_19_20_sdf.where((F.col('trip_time') > 0) & (F.col('trip_time') < 300))\n",
    "fhvhv_19_20_sdf_cleaned = fhvhv_19_20_sdf_cleaned.where(((F.col('PULocationID') >= 1) & (F.col('PULocationID') <= 263))\n",
    "                                                            | ((F.col('DOLocationID') >= 1) & (F.col('DOLocationID') <= 263)))\n",
    "print(\"Cleaned data size:\", fhvhv_19_20_sdf_cleaned.count())"
   ]
  },
  {
   "cell_type": "markdown",
   "metadata": {},
   "source": [
    "<h3>Feature selection</h3>"
   ]
  },
  {
   "cell_type": "code",
   "execution_count": 62,
   "metadata": {},
   "outputs": [
    {
     "data": {
      "text/html": [
       "<table border='1'>\n",
       "<tr><th>tpep_pickup_datetime</th><th>tpep_dropoff_datetime</th><th>PULocationID</th><th>DOLocationID</th><th>total_amount</th><th>is_weekend</th><th>tip_percent</th></tr>\n",
       "<tr><td>2019-12-01 11:26:58</td><td>2019-12-01 11:41:45</td><td>142</td><td>116</td><td>18.3</td><td>true</td><td>0.0</td></tr>\n",
       "<tr><td>2019-12-01 11:12:08</td><td>2019-12-01 11:12:14</td><td>145</td><td>145</td><td>3.8</td><td>true</td><td>0.0</td></tr>\n",
       "<tr><td>2019-12-01 11:25:53</td><td>2019-12-01 11:26:04</td><td>145</td><td>145</td><td>3.8</td><td>true</td><td>0.0</td></tr>\n",
       "<tr><td>2019-12-01 11:12:03</td><td>2019-12-01 11:33:19</td><td>138</td><td>25</td><td>39.8</td><td>true</td><td>25.125628140703522</td></tr>\n",
       "<tr><td>2019-12-01 11:05:27</td><td>2019-12-01 11:16:32</td><td>161</td><td>237</td><td>12.8</td><td>true</td><td>0.0</td></tr>\n",
       "<tr><td>2019-12-01 11:58:51</td><td>2019-12-01 12:08:37</td><td>161</td><td>230</td><td>10.3</td><td>true</td><td>0.0</td></tr>\n",
       "<tr><td>2019-12-01 11:14:19</td><td>2019-12-01 11:27:06</td><td>164</td><td>163</td><td>13.8</td><td>true</td><td>0.0</td></tr>\n",
       "<tr><td>2019-12-01 11:29:35</td><td>2019-12-01 11:32:29</td><td>79</td><td>224</td><td>9.35</td><td>true</td><td>16.577540106951876</td></tr>\n",
       "<tr><td>2019-12-01 11:42:19</td><td>2019-12-01 11:50:34</td><td>79</td><td>107</td><td>11.3</td><td>true</td><td>0.0</td></tr>\n",
       "<tr><td>2019-12-01 11:19:48</td><td>2019-12-01 11:24:18</td><td>148</td><td>4</td><td>11.15</td><td>true</td><td>16.591928251121075</td></tr>\n",
       "<tr><td>2019-12-01 11:36:16</td><td>2019-12-01 11:53:42</td><td>79</td><td>226</td><td>26.15</td><td>true</td><td>16.634799235181642</td></tr>\n",
       "<tr><td>2019-12-01 10:54:45</td><td>2019-12-01 11:09:57</td><td>234</td><td>230</td><td>15.8</td><td>true</td><td>0.0</td></tr>\n",
       "<tr><td>2019-12-01 11:39:43</td><td>2019-12-01 11:52:06</td><td>186</td><td>48</td><td>12.8</td><td>true</td><td>0.0</td></tr>\n",
       "<tr><td>2019-12-01 11:43:02</td><td>2019-12-01 12:11:18</td><td>41</td><td>51</td><td>39.8</td><td>true</td><td>0.0</td></tr>\n",
       "<tr><td>2019-12-01 11:04:40</td><td>2019-12-01 11:31:27</td><td>132</td><td>141</td><td>60.83</td><td>true</td><td>9.090909090909092</td></tr>\n",
       "<tr><td>2019-12-01 11:08:57</td><td>2019-12-01 11:09:18</td><td>246</td><td>246</td><td>20.3</td><td>true</td><td>12.31527093596059</td></tr>\n",
       "<tr><td>2019-12-01 11:57:16</td><td>2019-12-01 12:19:32</td><td>230</td><td>230</td><td>18.8</td><td>true</td><td>0.0</td></tr>\n",
       "<tr><td>2019-12-01 11:37:17</td><td>2019-12-01 12:07:39</td><td>132</td><td>238</td><td>73.65</td><td>true</td><td>20.0</td></tr>\n",
       "<tr><td>2019-12-01 11:43:27</td><td>2019-12-01 12:23:30</td><td>68</td><td>265</td><td>107.15</td><td>true</td><td>16.658889407372843</td></tr>\n",
       "<tr><td>2019-12-01 11:43:09</td><td>2019-12-01 12:11:07</td><td>138</td><td>85</td><td>41.75</td><td>true</td><td>16.646706586826348</td></tr>\n",
       "</table>\n",
       "only showing top 20 rows\n"
      ],
      "text/plain": [
       "+--------------------+---------------------+------------+------------+------------+----------+------------------+\n",
       "|tpep_pickup_datetime|tpep_dropoff_datetime|PULocationID|DOLocationID|total_amount|is_weekend|       tip_percent|\n",
       "+--------------------+---------------------+------------+------------+------------+----------+------------------+\n",
       "| 2019-12-01 11:26:58|  2019-12-01 11:41:45|         142|         116|        18.3|      true|               0.0|\n",
       "| 2019-12-01 11:12:08|  2019-12-01 11:12:14|         145|         145|         3.8|      true|               0.0|\n",
       "| 2019-12-01 11:25:53|  2019-12-01 11:26:04|         145|         145|         3.8|      true|               0.0|\n",
       "| 2019-12-01 11:12:03|  2019-12-01 11:33:19|         138|          25|        39.8|      true|25.125628140703522|\n",
       "| 2019-12-01 11:05:27|  2019-12-01 11:16:32|         161|         237|        12.8|      true|               0.0|\n",
       "| 2019-12-01 11:58:51|  2019-12-01 12:08:37|         161|         230|        10.3|      true|               0.0|\n",
       "| 2019-12-01 11:14:19|  2019-12-01 11:27:06|         164|         163|        13.8|      true|               0.0|\n",
       "| 2019-12-01 11:29:35|  2019-12-01 11:32:29|          79|         224|        9.35|      true|16.577540106951876|\n",
       "| 2019-12-01 11:42:19|  2019-12-01 11:50:34|          79|         107|        11.3|      true|               0.0|\n",
       "| 2019-12-01 11:19:48|  2019-12-01 11:24:18|         148|           4|       11.15|      true|16.591928251121075|\n",
       "| 2019-12-01 11:36:16|  2019-12-01 11:53:42|          79|         226|       26.15|      true|16.634799235181642|\n",
       "| 2019-12-01 10:54:45|  2019-12-01 11:09:57|         234|         230|        15.8|      true|               0.0|\n",
       "| 2019-12-01 11:39:43|  2019-12-01 11:52:06|         186|          48|        12.8|      true|               0.0|\n",
       "| 2019-12-01 11:43:02|  2019-12-01 12:11:18|          41|          51|        39.8|      true|               0.0|\n",
       "| 2019-12-01 11:04:40|  2019-12-01 11:31:27|         132|         141|       60.83|      true| 9.090909090909092|\n",
       "| 2019-12-01 11:08:57|  2019-12-01 11:09:18|         246|         246|        20.3|      true| 12.31527093596059|\n",
       "| 2019-12-01 11:57:16|  2019-12-01 12:19:32|         230|         230|        18.8|      true|               0.0|\n",
       "| 2019-12-01 11:37:17|  2019-12-01 12:07:39|         132|         238|       73.65|      true|              20.0|\n",
       "| 2019-12-01 11:43:27|  2019-12-01 12:23:30|          68|         265|      107.15|      true|16.658889407372843|\n",
       "| 2019-12-01 11:43:09|  2019-12-01 12:11:07|         138|          85|       41.75|      true|16.646706586826348|\n",
       "+--------------------+---------------------+------------+------------+------------+----------+------------------+\n",
       "only showing top 20 rows"
      ]
     },
     "execution_count": 62,
     "metadata": {},
     "output_type": "execute_result"
    }
   ],
   "source": [
    "yellow_19_20_sdf_final = yellow_19_20_sdf_cleaned.drop(*['VendorID', 'passenger_count', 'trip_distance', 'RatecodeID', \n",
    "                                                        'store_and_fwd_flag', 'payment_type', 'fare_amount', 'extra',\n",
    "                                                        'mta_tax', 'tip_amount', 'tolls_amount', 'improvement_surcharge',\n",
    "                                                        'congestion_surcharge', 'airport_fee', 'trip_time'])\n",
    "yellow_19_20_sdf_final"
   ]
  },
  {
   "cell_type": "markdown",
   "metadata": {},
   "source": []
  },
  {
   "cell_type": "code",
   "execution_count": 61,
   "metadata": {},
   "outputs": [
    {
     "data": {
      "text/html": [
       "<table border='1'>\n",
       "<tr><th>pickup_datetime</th><th>dropoff_datetime</th><th>PULocationID</th><th>DOLocationID</th><th>total_amount</th><th>is_weekend</th><th>tip_percent</th></tr>\n",
       "<tr><td>2019-12-01 11:16:23</td><td>2019-12-01 11:24:47</td><td>42</td><td>41</td><td>9.82</td><td>true</td><td>0.0</td></tr>\n",
       "<tr><td>2019-12-01 11:36:01</td><td>2019-12-01 11:47:28</td><td>236</td><td>166</td><td>18.96</td><td>true</td><td>0.0</td></tr>\n",
       "<tr><td>2019-12-01 11:54:48</td><td>2019-12-01 12:11:15</td><td>238</td><td>78</td><td>16.28</td><td>true</td><td>0.0</td></tr>\n",
       "<tr><td>2019-12-01 11:48:19</td><td>2019-12-01 12:00:16</td><td>148</td><td>125</td><td>9.879999999999999</td><td>true</td><td>0.0</td></tr>\n",
       "<tr><td>2019-12-01 11:08:55</td><td>2019-12-01 11:26:26</td><td>138</td><td>137</td><td>34.660000000000004</td><td>true</td><td>0.0</td></tr>\n",
       "<tr><td>2019-12-01 11:32:33</td><td>2019-12-01 11:47:06</td><td>164</td><td>141</td><td>17.13</td><td>true</td><td>0.0</td></tr>\n",
       "<tr><td>2019-12-01 11:18:15</td><td>2019-12-01 11:38:07</td><td>25</td><td>263</td><td>28.87</td><td>true</td><td>0.0</td></tr>\n",
       "<tr><td>2019-12-01 11:40:46</td><td>2019-12-01 11:52:38</td><td>263</td><td>226</td><td>18.17</td><td>true</td><td>0.0</td></tr>\n",
       "<tr><td>2019-12-01 11:12:55</td><td>2019-12-01 11:17:23</td><td>60</td><td>167</td><td>10.03</td><td>true</td><td>0.0</td></tr>\n",
       "<tr><td>2019-12-01 11:02:23</td><td>2019-12-01 11:26:35</td><td>126</td><td>173</td><td>14.090000000000002</td><td>true</td><td>0.0</td></tr>\n",
       "<tr><td>2019-12-01 11:31:05</td><td>2019-12-01 11:49:27</td><td>129</td><td>126</td><td>21.64</td><td>true</td><td>0.0</td></tr>\n",
       "<tr><td>2019-12-01 11:51:14</td><td>2019-12-01 11:57:19</td><td>126</td><td>248</td><td>9.870000000000001</td><td>true</td><td>0.0</td></tr>\n",
       "<tr><td>2019-12-01 11:10:08</td><td>2019-12-01 11:15:50</td><td>234</td><td>107</td><td>4.36</td><td>true</td><td>0.0</td></tr>\n",
       "<tr><td>2019-12-01 11:13:02</td><td>2019-12-01 11:31:58</td><td>137</td><td>45</td><td>5.420000000000001</td><td>true</td><td>0.0</td></tr>\n",
       "<tr><td>2019-12-01 11:21:44</td><td>2019-12-01 11:34:42</td><td>79</td><td>45</td><td>4.77</td><td>true</td><td>0.0</td></tr>\n",
       "<tr><td>2019-12-01 11:38:44</td><td>2019-12-01 12:12:11</td><td>232</td><td>177</td><td>20.66</td><td>true</td><td>0.0</td></tr>\n",
       "<tr><td>2019-12-01 11:43:19</td><td>2019-12-01 12:06:19</td><td>232</td><td>61</td><td>14.629999999999999</td><td>true</td><td>0.0</td></tr>\n",
       "<tr><td>2019-12-01 11:38:04</td><td>2019-12-01 11:42:59</td><td>125</td><td>231</td><td>4.65</td><td>true</td><td>0.0</td></tr>\n",
       "<tr><td>2019-12-01 11:53:24</td><td>2019-12-01 11:57:37</td><td>231</td><td>231</td><td>7.83</td><td>true</td><td>0.0</td></tr>\n",
       "<tr><td>2019-12-01 11:08:13</td><td>2019-12-01 11:19:43</td><td>79</td><td>148</td><td>11.0</td><td>true</td><td>0.0</td></tr>\n",
       "</table>\n",
       "only showing top 20 rows\n"
      ],
      "text/plain": [
       "+-------------------+-------------------+------------+------------+------------------+----------+-----------+\n",
       "|    pickup_datetime|   dropoff_datetime|PULocationID|DOLocationID|      total_amount|is_weekend|tip_percent|\n",
       "+-------------------+-------------------+------------+------------+------------------+----------+-----------+\n",
       "|2019-12-01 11:16:23|2019-12-01 11:24:47|          42|          41|              9.82|      true|        0.0|\n",
       "|2019-12-01 11:36:01|2019-12-01 11:47:28|         236|         166|             18.96|      true|        0.0|\n",
       "|2019-12-01 11:54:48|2019-12-01 12:11:15|         238|          78|             16.28|      true|        0.0|\n",
       "|2019-12-01 11:48:19|2019-12-01 12:00:16|         148|         125| 9.879999999999999|      true|        0.0|\n",
       "|2019-12-01 11:08:55|2019-12-01 11:26:26|         138|         137|34.660000000000004|      true|        0.0|\n",
       "|2019-12-01 11:32:33|2019-12-01 11:47:06|         164|         141|             17.13|      true|        0.0|\n",
       "|2019-12-01 11:18:15|2019-12-01 11:38:07|          25|         263|             28.87|      true|        0.0|\n",
       "|2019-12-01 11:40:46|2019-12-01 11:52:38|         263|         226|             18.17|      true|        0.0|\n",
       "|2019-12-01 11:12:55|2019-12-01 11:17:23|          60|         167|             10.03|      true|        0.0|\n",
       "|2019-12-01 11:02:23|2019-12-01 11:26:35|         126|         173|14.090000000000002|      true|        0.0|\n",
       "|2019-12-01 11:31:05|2019-12-01 11:49:27|         129|         126|             21.64|      true|        0.0|\n",
       "|2019-12-01 11:51:14|2019-12-01 11:57:19|         126|         248| 9.870000000000001|      true|        0.0|\n",
       "|2019-12-01 11:10:08|2019-12-01 11:15:50|         234|         107|              4.36|      true|        0.0|\n",
       "|2019-12-01 11:13:02|2019-12-01 11:31:58|         137|          45| 5.420000000000001|      true|        0.0|\n",
       "|2019-12-01 11:21:44|2019-12-01 11:34:42|          79|          45|              4.77|      true|        0.0|\n",
       "|2019-12-01 11:38:44|2019-12-01 12:12:11|         232|         177|             20.66|      true|        0.0|\n",
       "|2019-12-01 11:43:19|2019-12-01 12:06:19|         232|          61|14.629999999999999|      true|        0.0|\n",
       "|2019-12-01 11:38:04|2019-12-01 11:42:59|         125|         231|              4.65|      true|        0.0|\n",
       "|2019-12-01 11:53:24|2019-12-01 11:57:37|         231|         231|              7.83|      true|        0.0|\n",
       "|2019-12-01 11:08:13|2019-12-01 11:19:43|          79|         148|              11.0|      true|        0.0|\n",
       "+-------------------+-------------------+------------+------------+------------------+----------+-----------+\n",
       "only showing top 20 rows"
      ]
     },
     "execution_count": 61,
     "metadata": {},
     "output_type": "execute_result"
    }
   ],
   "source": [
    "fhvhv_19_20_sdf_final = fhvhv_19_20_sdf_cleaned.drop(*['hvfhs_license_num', 'dispatching_base_num', 'originating_base_num',\n",
    "                                                        'request_datetime', 'on_scene_datetime', 'trip_miles', 'trip_time',\n",
    "                                                        'base_passenger_fare', 'tolls', 'bcf', 'sales_tax', 'congestion_surcharge',\n",
    "                                                        'airport_fee', 'tips', 'driver_pay', 'shared_request_flag', 'shared_match_flag',\n",
    "                                                        'access_a_ride_flag', 'wav_request_flag', 'wav_match_flag'])\n",
    "fhvhv_19_20_sdf_final"
   ]
  },
  {
   "cell_type": "code",
   "execution_count": null,
   "metadata": {},
   "outputs": [],
   "source": []
  }
 ],
 "metadata": {
  "kernelspec": {
   "display_name": "Python 3.10.4 64-bit",
   "language": "python",
   "name": "python3"
  },
  "language_info": {
   "codemirror_mode": {
    "name": "ipython",
    "version": 3
   },
   "file_extension": ".py",
   "mimetype": "text/x-python",
   "name": "python",
   "nbconvert_exporter": "python",
   "pygments_lexer": "ipython3",
   "version": "3.10.4"
  },
  "latex_envs": {
   "LaTeX_envs_menu_present": true,
   "autoclose": false,
   "autocomplete": true,
   "bibliofile": "biblio.bib",
   "cite_by": "apalike",
   "current_citInitial": 1,
   "eqLabelWithNumbers": true,
   "eqNumInitial": 1,
   "hotkeys": {
    "equation": "Ctrl-E",
    "itemize": "Ctrl-I"
   },
   "labels_anchors": false,
   "latex_user_defs": false,
   "report_style_numbering": false,
   "user_envs_cfg": false
  },
  "toc": {
   "base_numbering": 1,
   "nav_menu": {},
   "number_sections": true,
   "sideBar": true,
   "skip_h1_title": false,
   "title_cell": "Table of Contents",
   "title_sidebar": "Contents",
   "toc_cell": false,
   "toc_position": {},
   "toc_section_display": true,
   "toc_window_display": false
  },
  "varInspector": {
   "cols": {
    "lenName": 16,
    "lenType": 16,
    "lenVar": 40
   },
   "kernels_config": {
    "python": {
     "delete_cmd_postfix": "",
     "delete_cmd_prefix": "del ",
     "library": "var_list.py",
     "varRefreshCmd": "print(var_dic_list())"
    },
    "r": {
     "delete_cmd_postfix": ") ",
     "delete_cmd_prefix": "rm(",
     "library": "var_list.r",
     "varRefreshCmd": "cat(var_dic_list()) "
    }
   },
   "types_to_exclude": [
    "module",
    "function",
    "builtin_function_or_method",
    "instance",
    "_Feature"
   ],
   "window_display": false
  },
  "vscode": {
   "interpreter": {
    "hash": "916dbcbb3f70747c44a77c7bcd40155683ae19c65e1c03b4aa3499c5328201f1"
   }
  }
 },
 "nbformat": 4,
 "nbformat_minor": 4
}
