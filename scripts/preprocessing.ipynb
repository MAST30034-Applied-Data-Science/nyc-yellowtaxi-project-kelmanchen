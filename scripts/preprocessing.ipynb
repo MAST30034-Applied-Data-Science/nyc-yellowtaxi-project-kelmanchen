{
 "cells": [
  {
   "cell_type": "markdown",
   "metadata": {
    "heading_collapsed": true
   },
   "source": [
    "This notebook preprocesses the following raw data for the period Dec 2019 to Feb 2020 and Dec 2021 to Feb 2022:\n",
    "- NYC Yellow Taxi Data \n",
    "- NYC For Hire Vehicles High Volume (FHVHV) Data\n",
    "- NYC COVID-19 Data (Dec 2021-Feb 2022 only)"
   ]
  },
  {
   "cell_type": "code",
   "execution_count": 29,
   "metadata": {},
   "outputs": [],
   "source": [
    "from pyspark.sql import SparkSession\n",
    "import pyspark.sql.functions as F\n",
    "import matplotlib.pyplot as plt\n",
    "import seaborn as sns\n",
    "import pandas as pd\n",
    "pd.options.mode.chained_assignment = None\n",
    "\n",
    "# Create a spark session (which will run spark jobs)\n",
    "spark = (\n",
    "    SparkSession.builder.appName(\"MAST30034 Project 1\")\n",
    "    .config(\"spark.sql.repl.eagerEval.enabled\", True) \n",
    "    .config(\"spark.sql.parquet.cacheMetadata\", \"true\")\n",
    "    .config(\"spark.driver.memory\", \"4g\")\n",
    "    .config(\"spark.executor.memory\", \"8g\")\n",
    "    .getOrCreate()\n",
    ")"
   ]
  },
  {
   "cell_type": "markdown",
   "metadata": {},
   "source": [
    "<h2><u>Preprocess TLC Data</u></h2>"
   ]
  },
  {
   "cell_type": "code",
   "execution_count": 30,
   "metadata": {},
   "outputs": [],
   "source": [
    "# load yellow taxi data\n",
    "yellow_2019_12_sdf = spark.read.parquet('../data/raw/NYC TLC Data/yellow_tripdata_2019-12.parquet', header=True)\n",
    "yellow_2020_01_sdf = spark.read.parquet('../data/raw/NYC TLC Data/yellow_tripdata_2020-01.parquet', header=True)\n",
    "yellow_2020_02_sdf = spark.read.parquet('../data/raw/NYC TLC Data/yellow_tripdata_2020-02.parquet', header=True)\n",
    "\n",
    "yellow_2021_12_sdf = spark.read.parquet('../data/raw/NYC TLC Data/yellow_tripdata_2021-12.parquet', header=True)\n",
    "yellow_2022_01_sdf = spark.read.parquet('../data/raw/NYC TLC Data/yellow_tripdata_2022-01.parquet', header=True)\n",
    "yellow_2022_02_sdf = spark.read.parquet('../data/raw/NYC TLC Data/yellow_tripdata_2022-02.parquet', header=True)\n",
    "\n",
    "# load FHV data\n",
    "fhvhv_2019_12_sdf = spark.read.parquet('../data/raw/NYC TLC Data/fhvhv_tripdata_2019-12.parquet', header=True)\n",
    "fhvhv_2020_01_sdf = spark.read.parquet('../data/raw/NYC TLC Data/fhvhv_tripdata_2020-01.parquet', header=True)\n",
    "fhvhv_2020_02_sdf = spark.read.parquet('../data/raw/NYC TLC Data/fhvhv_tripdata_2020-02.parquet', header=True)\n",
    "\n",
    "fhvhv_2021_12_sdf = spark.read.parquet('../data/raw/NYC TLC Data/fhvhv_tripdata_2021-12.parquet', header=True)\n",
    "fhvhv_2022_01_sdf = spark.read.parquet('../data/raw/NYC TLC Data/fhvhv_tripdata_2022-01.parquet', header=True)\n",
    "fhvhv_2022_02_sdf = spark.read.parquet('../data/raw/NYC TLC Data/fhvhv_tripdata_2022-02.parquet', header=True)\n",
    "\n",
    "# merge datasets categorised by type and period\n",
    "yellow_19_20_sdf = yellow_2019_12_sdf.unionAll(yellow_2020_01_sdf).unionAll(yellow_2020_02_sdf)\n",
    "yellow_21_22_sdf = yellow_2021_12_sdf.unionAll(yellow_2022_01_sdf).unionAll(yellow_2022_02_sdf)\n",
    "\n",
    "fhvhv_19_20_sdf = fhvhv_2019_12_sdf.unionAll(fhvhv_2020_01_sdf).unionAll(fhvhv_2020_02_sdf)\n",
    "fhvhv_21_22_sdf = fhvhv_2021_12_sdf.unionAll(fhvhv_2022_01_sdf).unionAll(fhvhv_2022_02_sdf)"
   ]
  },
  {
   "cell_type": "markdown",
   "metadata": {},
   "source": [
    "<h3>Feature engineering</h3>"
   ]
  },
  {
   "cell_type": "markdown",
   "metadata": {},
   "source": [
    "**Yellow Taxis**"
   ]
  },
  {
   "cell_type": "code",
   "execution_count": 31,
   "metadata": {},
   "outputs": [],
   "source": [
    "def yellow_taxi_feature_eng(data_sdf):\n",
    "    # trip duration in minutes\n",
    "    data_sdf_eng = data_sdf.withColumn(\n",
    "        'trip_time',\n",
    "        (F.col('tpep_dropoff_datetime').cast('long') - F.col('tpep_pickup_datetime').cast('long'))/60\n",
    "    )\n",
    "\n",
    "    # pickup day is weekend or not\n",
    "    data_sdf_eng = data_sdf_eng.withColumn(\n",
    "        'is_weekend',\n",
    "        F.dayofweek(F.col('tpep_pickup_datetime')).isin([1, 7])\n",
    "    )\n",
    "\n",
    "    # rename pickup/dropoff date time to match fhvhv\n",
    "    data_sdf_eng = data_sdf_eng.withColumnRenamed('tpep_pickup_datetime', 'pickup_datetime')\n",
    "    data_sdf_eng = data_sdf_eng.withColumnRenamed('tpep_dropoff_datetime', 'dropoff_datetime')\n",
    "\n",
    "    return data_sdf_eng\n",
    "\n",
    "yellow_19_20_sdf_eng = yellow_taxi_feature_eng(yellow_19_20_sdf)\n",
    "yellow_21_22_sdf_eng = yellow_taxi_feature_eng(yellow_21_22_sdf)\n"
   ]
  },
  {
   "cell_type": "markdown",
   "metadata": {},
   "source": [
    "**FHV**"
   ]
  },
  {
   "cell_type": "code",
   "execution_count": 32,
   "metadata": {},
   "outputs": [],
   "source": [
    "def fhvhv_feature_eng(data_sdf):\n",
    "    # trip duration in mniutes\n",
    "    data_sdf_eng = data_sdf.withColumn(\n",
    "        'trip_time',\n",
    "        F.col('trip_time')/60\n",
    "    )\n",
    "\n",
    "    # fill null values in airport_fee with 0\n",
    "    data_sdf_eng = data_sdf_eng.na.fill(value=0, subset=['airport_fee'])\n",
    "\n",
    "    # total amount paid by passenger\n",
    "    data_sdf_eng = data_sdf_eng.withColumn(\n",
    "        'total_amount',\n",
    "        F.col('base_passenger_fare') + F.col('tolls') + F.col('sales_tax') + F.col('tips') + F.col('airport_fee')\n",
    "    )\n",
    "\n",
    "    # pickup day is weekend or not\n",
    "    data_sdf_eng = data_sdf_eng.withColumn(\n",
    "        'is_weekend',\n",
    "        F.dayofweek(F.col('pickup_datetime')).isin([1, 7])\n",
    "    )\n",
    "\n",
    "    # rename trip_miles featue to trip_distance\n",
    "    data_sdf_eng = data_sdf_eng.withColumnRenamed('trip_miles', 'trip_distance')\n",
    "\n",
    "    # rename tips featue to tip_amount\n",
    "    data_sdf_eng = data_sdf_eng.withColumnRenamed('tips', 'tip_amount')\n",
    "\n",
    "    return data_sdf_eng\n",
    "\n",
    "fhvhv_19_20_sdf_eng = fhvhv_feature_eng(fhvhv_19_20_sdf)\n",
    "fhvhv_21_22_sdf_eng = fhvhv_feature_eng(fhvhv_21_22_sdf)"
   ]
  },
  {
   "cell_type": "markdown",
   "metadata": {},
   "source": [
    "<h3>Outlier Detection</h3>"
   ]
  },
  {
   "cell_type": "markdown",
   "metadata": {},
   "source": [
    "Distribution analysis only performed on Yellow Taxis 2019-2020 dataset, and any outliers detected removed for all datasets"
   ]
  },
  {
   "cell_type": "markdown",
   "metadata": {},
   "source": [
    "**Total Fare Amount**"
   ]
  },
  {
   "cell_type": "code",
   "execution_count": 38,
   "metadata": {},
   "outputs": [
    {
     "data": {
      "image/png": "[encoded data removed]",
      "text/plain": [
       "<Figure size 432x288 with 1 Axes>"
      ]
     },
     "metadata": {
      "needs_background": "light"
     },
     "output_type": "display_data"
    }
   ],
   "source": [
    "total_amount_yellow_19_20_df = yellow_19_20_sdf_eng.select('total_amount').sample(fraction=0.05, seed=42).toPandas()\n",
    "\n",
    "sns.boxplot(x = total_amount_yellow_19_20_df['total_amount'])\n",
    "plt.title('Boxplot of Total Fare Amount')\n",
    "plt.xlabel('Total fare amount (dollars)')\n",
    "plt.ylabel('')\n",
    "plt.savefig('../plots/yellow_19_20_total_amount_raw_boxplot.png')\n",
    "plt.show()"
   ]
  },
  {
   "cell_type": "markdown",
   "metadata": {},
   "source": [
    "**Trip Time**"
   ]
  },
  {
   "cell_type": "code",
   "execution_count": 39,
   "metadata": {},
   "outputs": [
    {
     "name": "stderr",
     "output_type": "stream",
     "text": [
      "                                                                                \r"
     ]
    },
    {
     "data": {
      "image/png": "[encoded data removed]",
      "text/plain": [
       "<Figure size 432x288 with 1 Axes>"
      ]
     },
     "metadata": {
      "needs_background": "light"
     },
     "output_type": "display_data"
    }
   ],
   "source": [
    "trip_time_yellow_19_20_df = yellow_19_20_sdf_eng.select('trip_time').sample(fraction=0.05, seed=42).toPandas()\n",
    "\n",
    "sns.boxplot(x = trip_time_yellow_19_20_df['trip_time'])\n",
    "plt.title('Boxplot of Trip Time')\n",
    "plt.xlabel('Total trip time (minutes)')\n",
    "plt.ylabel('')\n",
    "plt.savefig('../plots/yellow_19_20_trip_time_raw_boxplot.png')\n",
    "plt.show()"
   ]
  },
  {
   "cell_type": "markdown",
   "metadata": {},
   "source": [
    "**Passenger Count**"
   ]
  },
  {
   "cell_type": "code",
   "execution_count": 40,
   "metadata": {},
   "outputs": [
    {
     "data": {
      "image/png": "[encoded data removed]",
      "text/plain": [
       "<Figure size 432x288 with 1 Axes>"
      ]
     },
     "metadata": {
      "needs_background": "light"
     },
     "output_type": "display_data"
    }
   ],
   "source": [
    "trip_time_yellow_19_20_df = yellow_19_20_sdf_eng.select('passenger_count').sample(fraction=0.05, seed=42).toPandas()\n",
    "\n",
    "sns.boxplot(x = trip_time_yellow_19_20_df['passenger_count'])\n",
    "plt.title('Boxplot of Passenger Count')\n",
    "plt.xlabel('Total passengers')\n",
    "plt.ylabel('')\n",
    "plt.savefig('../plots/yellow_19_20_passenger_count_raw_boxplot.png')\n",
    "plt.show()"
   ]
  },
  {
   "cell_type": "markdown",
   "metadata": {},
   "source": [
    "**Trip Distance**"
   ]
  },
  {
   "cell_type": "code",
   "execution_count": 41,
   "metadata": {},
   "outputs": [
    {
     "data": {
      "image/png": "[encoded data removed]",
      "text/plain": [
       "<Figure size 432x288 with 1 Axes>"
      ]
     },
     "metadata": {
      "needs_background": "light"
     },
     "output_type": "display_data"
    }
   ],
   "source": [
    "trip_time_yellow_19_20_df = yellow_19_20_sdf_eng.select('trip_distance').sample(fraction=0.05, seed=42).toPandas()\n",
    "\n",
    "sns.boxplot(x = trip_time_yellow_19_20_df['trip_distance'])\n",
    "plt.title('Boxplot of Trip Distance')\n",
    "plt.xlabel('Trip distance (miles)')\n",
    "plt.ylabel('')\n",
    "plt.savefig('../plots/yellow_19_20_trip_distance_raw_boxplot.png')\n",
    "plt.show()"
   ]
  },
  {
   "cell_type": "markdown",
   "metadata": {},
   "source": [
    "<h3>Outlier Cleaning</h3> "
   ]
  },
  {
   "cell_type": "code",
   "execution_count": 33,
   "metadata": {},
   "outputs": [],
   "source": [
    "# select trips with total fare amount more than $0 and less than $400\n",
    "total_amount_clean_mask = (F.col('total_amount') > 0) & (F.col('total_amount') < 400)\n",
    "\n",
    "# select trips with trip time more than 0 and less than 300 minutes (0-5 hours)\n",
    "trip_time_clean_mask = (F.col('trip_time') > 0) & (F.col('trip_time') < 300)\n",
    "\n",
    "# select trips with passenger counts more than 0 and less than 7 (legal limit in taxis)\n",
    "passenger_count_clean_mask = (F.col('passenger_count') > 0) & (F.col('passenger_count') < 7)\n",
    "\n",
    "# select trips with distance more than 0 and less than 300 miles\n",
    "trip_distance_clean_mask = (F.col('trip_distance') > 0) & (F.col('trip_distance') < 300)\n",
    "\n",
    "# select trips with tips more than or equal to 0 and less than the total amount\n",
    "tip_amount_clean_mask = (F.col('tip_amount') >= 0) & (F.col('tip_amount') < F.col('total_amount'))\n",
    "\n",
    "# select trips only with payment type\n",
    "payment_time_clean_mask = (F.col('payment_type') == 1) | (F.col('payment_type') == 2)\n",
    "\n",
    "# select trips with valid location IDs (1 to 263)\n",
    "location_id_clean_mask = (((F.col('PULocationID') >= 1) & (F.col('PULocationID') <= 263))\n",
    "                            | ((F.col('DOLocationID') >= 1) & (F.col('DOLocationID') <= 263)))"
   ]
  },
  {
   "cell_type": "code",
   "execution_count": 34,
   "metadata": {},
   "outputs": [],
   "source": [
    "def clean_data(data_sdf, masks):\n",
    "    clean_data_sdf = data_sdf.where(masks[0])\n",
    "    for mask in masks[1:]:\n",
    "        clean_data_sdf = clean_data_sdf.where(mask)\n",
    "\n",
    "    return clean_data_sdf\n",
    "\n",
    "def clean_date_time(data_sdf, start, end):\n",
    "    return data_sdf.where(F.col('pickup_datetime').between(start, end))"
   ]
  },
  {
   "cell_type": "markdown",
   "metadata": {},
   "source": [
    "**Yellow Taxis**"
   ]
  },
  {
   "cell_type": "code",
   "execution_count": 35,
   "metadata": {},
   "outputs": [
    {
     "name": "stdout",
     "output_type": "stream",
     "text": [
      "Original data size for Yellow Taxi 2019-2020: 19600692\n"
     ]
    },
    {
     "name": "stderr",
     "output_type": "stream",
     "text": [
      "                                                                                \r"
     ]
    },
    {
     "name": "stdout",
     "output_type": "stream",
     "text": [
      "Cleaned data size for Yellow Taxi 2019-2020: 18483810\n",
      "\n",
      "Original data size for Yellow Taxi 2021-2022: 8657731\n"
     ]
    },
    {
     "name": "stderr",
     "output_type": "stream",
     "text": [
      "[Stage 110:================================================>      (21 + 3) / 24]\r"
     ]
    },
    {
     "name": "stdout",
     "output_type": "stream",
     "text": [
      "Cleaned data size for Yellow Taxi 2021-2022: 7932626\n"
     ]
    },
    {
     "name": "stderr",
     "output_type": "stream",
     "text": [
      "                                                                                \r"
     ]
    }
   ],
   "source": [
    "masks_yellow = [total_amount_clean_mask, trip_time_clean_mask, passenger_count_clean_mask, trip_distance_clean_mask, \n",
    "                tip_amount_clean_mask, payment_time_clean_mask, location_id_clean_mask]\n",
    "\n",
    "# clean data with masks\n",
    "yellow_19_20_sdf_cleaned = clean_data(yellow_19_20_sdf_eng, masks_yellow)\n",
    "yellow_21_22_sdf_cleaned = clean_data(yellow_21_22_sdf_eng, masks_yellow)  \n",
    "\n",
    "# clean date time\n",
    "yellow_19_20_sdf_cleaned = clean_date_time(yellow_19_20_sdf_cleaned, '2019-12-01 00:00:00', '2020-02-29 23:59:59')\n",
    "yellow_21_22_sdf_cleaned = clean_date_time(yellow_21_22_sdf_cleaned, '2021-12-01 00:00:00', '2022-02-28 23:59:59')\n",
    "\n",
    "print(\"Original data size for Yellow Taxi 2019-2020:\", yellow_19_20_sdf_eng.count()) \n",
    "print(\"Cleaned data size for Yellow Taxi 2019-2020:\", yellow_19_20_sdf_cleaned.count())   \n",
    "print(\"\")\n",
    "print(\"Original data size for Yellow Taxi 2021-2022:\", yellow_21_22_sdf_eng.count())   \n",
    "print(\"Cleaned data size for Yellow Taxi 2021-2022:\", yellow_21_22_sdf_cleaned.count())  "
   ]
  },
  {
   "cell_type": "markdown",
   "metadata": {},
   "source": [
    "**FHV**"
   ]
  },
  {
   "cell_type": "code",
   "execution_count": 36,
   "metadata": {},
   "outputs": [
    {
     "name": "stdout",
     "output_type": "stream",
     "text": [
      "Original data size for FHVHV Trips 2019-2020: 64538369\n"
     ]
    },
    {
     "name": "stderr",
     "output_type": "stream",
     "text": [
      "                                                                                \r"
     ]
    },
    {
     "name": "stdout",
     "output_type": "stream",
     "text": [
      "Cleaned data size for FHVHV Trips 2019-2020: 63272490\n",
      "Original data size for FHVHV Trips 2021-2022: 46825369\n"
     ]
    },
    {
     "name": "stderr",
     "output_type": "stream",
     "text": [
      "[Stage 122:====================================================>  (23 + 1) / 24]\r"
     ]
    },
    {
     "name": "stdout",
     "output_type": "stream",
     "text": [
      "Cleaned data size for FHVHV Trips 2021-2022: 46447305\n"
     ]
    },
    {
     "name": "stderr",
     "output_type": "stream",
     "text": [
      "                                                                                \r"
     ]
    }
   ],
   "source": [
    "masks_fhvhv = [total_amount_clean_mask, trip_time_clean_mask, trip_distance_clean_mask, \n",
    "                tip_amount_clean_mask, location_id_clean_mask]\n",
    "  \n",
    "# clean data with masks\n",
    "fhvhv_19_20_sdf_cleaned = clean_data(fhvhv_19_20_sdf_eng, masks_fhvhv)\n",
    "fhvhv_21_22_sdf_cleaned = clean_data(fhvhv_21_22_sdf_eng, masks_fhvhv)\n",
    "\n",
    "# clean date time\n",
    "fhvhv_19_20_sdf_cleaned = clean_date_time(fhvhv_19_20_sdf_cleaned, '2019-12-01 00:00:00', '2020-02-29 23:59:59')\n",
    "fhvhv_21_22_sdf_cleaned = clean_date_time(fhvhv_21_22_sdf_cleaned, '2021-12-01 00:00:00', '2022-02-28 23:59:59')\n",
    "\n",
    "print(\"Original data size for FHVHV Trips 2019-2020:\", fhvhv_19_20_sdf_eng.count())  \n",
    "print(\"Cleaned data size for FHVHV Trips 2019-2020:\", fhvhv_19_20_sdf_cleaned.count())   \n",
    "\n",
    "print(\"Original data size for FHVHV Trips 2021-2022:\", fhvhv_21_22_sdf_eng.count())   \n",
    "print(\"Cleaned data size for FHVHV Trips 2021-2022:\", fhvhv_21_22_sdf_cleaned.count())   \n"
   ]
  },
  {
   "cell_type": "markdown",
   "metadata": {},
   "source": [
    "<h3>Tip Percentage Feature</h3> "
   ]
  },
  {
   "cell_type": "markdown",
   "metadata": {},
   "source": [
    "Add tip percentage feature after cleaning all data to ensure unclean data isn't used to calculate"
   ]
  },
  {
   "cell_type": "code",
   "execution_count": 37,
   "metadata": {},
   "outputs": [],
   "source": [
    "yellow_19_20_sdf_cleaned = yellow_19_20_sdf_cleaned.withColumn(\n",
    "    'tip_percent',\n",
    "    (F.col('tip_amount') / F.col('total_amount')) * 100\n",
    ")\n",
    "\n",
    "yellow_21_22_sdf_cleaned = yellow_21_22_sdf_cleaned.withColumn(\n",
    "    'tip_percent',\n",
    "    (F.col('tip_amount') / F.col('total_amount')) * 100\n",
    ")\n",
    "\n",
    "fhvhv_19_20_sdf_cleaned = fhvhv_19_20_sdf_cleaned.withColumn(\n",
    "    'tip_percent',\n",
    "    (F.col('tip_amount') / F.col('total_amount')) * 100\n",
    ")\n",
    "\n",
    "fhvhv_21_22_sdf_cleaned = fhvhv_21_22_sdf_cleaned.withColumn(\n",
    "    'tip_percent',\n",
    "    (F.col('tip_amount') / F.col('total_amount')) * 100\n",
    ")\n",
    "\n"
   ]
  },
  {
   "cell_type": "markdown",
   "metadata": {},
   "source": [
    "<h3>Feature selection</h3>"
   ]
  },
  {
   "cell_type": "code",
   "execution_count": 38,
   "metadata": {},
   "outputs": [],
   "source": [
    "drop_features_taxi = ['VendorID', 'passenger_count', 'trip_distance', 'RatecodeID', \n",
    "                'store_and_fwd_flag', 'fare_amount', 'extra',\n",
    "                'mta_tax', 'tip_amount', 'tolls_amount', 'improvement_surcharge',\n",
    "                'congestion_surcharge', 'airport_fee', 'trip_time']\n",
    "\n",
    "yellow_19_20_sdf_final = yellow_19_20_sdf_cleaned.drop(*drop_features_taxi)\n",
    "yellow_21_22_sdf_final = yellow_21_22_sdf_cleaned.drop(*drop_features_taxi)"
   ]
  },
  {
   "cell_type": "code",
   "execution_count": 39,
   "metadata": {},
   "outputs": [
    {
     "name": "stderr",
     "output_type": "stream",
     "text": [
      "                                                                                \r"
     ]
    }
   ],
   "source": [
    "yellow_19_20_sdf_final.write.mode('overwrite').parquet('../data/curated/yellow_19-20_curated')"
   ]
  },
  {
   "cell_type": "code",
   "execution_count": 40,
   "metadata": {},
   "outputs": [
    {
     "name": "stderr",
     "output_type": "stream",
     "text": [
      "                                                                                \r"
     ]
    }
   ],
   "source": [
    "yellow_21_22_sdf_final.write.mode('overwrite').parquet('../data/curated/yellow_21-22_curated')"
   ]
  },
  {
   "cell_type": "code",
   "execution_count": 41,
   "metadata": {},
   "outputs": [],
   "source": [
    "drop_features_fhvhv = ['hvfhs_license_num', 'dispatching_base_num', 'originating_base_num',\n",
    "                        'request_datetime', 'on_scene_datetime', 'trip_distance', 'trip_time',\n",
    "                        'base_passenger_fare', 'tolls', 'bcf', 'sales_tax', 'congestion_surcharge',\n",
    "                        'airport_fee', 'tips', 'driver_pay', 'shared_request_flag', 'shared_match_flag',\n",
    "                        'access_a_ride_flag', 'wav_request_flag', 'wav_match_flag']\n",
    "\n",
    "fhvhv_19_20_sdf_final = fhvhv_19_20_sdf_cleaned.drop(*drop_features_fhvhv)\n",
    "fhvhv_21_22_sdf_final = fhvhv_21_22_sdf_cleaned.drop(*drop_features_fhvhv)"
   ]
  },
  {
   "cell_type": "code",
   "execution_count": 42,
   "metadata": {},
   "outputs": [
    {
     "name": "stderr",
     "output_type": "stream",
     "text": [
      "                                                                                \r"
     ]
    }
   ],
   "source": [
    "fhvhv_19_20_sdf_final.write.mode('overwrite').parquet('../data/curated/fhvhv_19-20_curated')"
   ]
  },
  {
   "cell_type": "code",
   "execution_count": 43,
   "metadata": {},
   "outputs": [
    {
     "name": "stderr",
     "output_type": "stream",
     "text": [
      "                                                                                \r"
     ]
    }
   ],
   "source": [
    "fhvhv_21_22_sdf_final.write.mode('overwrite').parquet('../data/curated/fhvhv_21-22_curated')"
   ]
  },
  {
   "cell_type": "markdown",
   "metadata": {},
   "source": [
    "<h2><u>Preprocess COVID Data</u></h2>"
   ]
  },
  {
   "cell_type": "code",
   "execution_count": 11,
   "metadata": {},
   "outputs": [],
   "source": [
    "# load COVID-19 Daily Counts data\n",
    "covid_df = pd.read_csv('../data/raw/External Data/COVID-19_Daily_Counts_of_Cases__Hospitalizations__and_Deaths.csv')\n",
    "\n",
    "# select necessary features\n",
    "covid_df_selected = covid_df[['date_of_interest', 'CASE_COUNT', 'HOSPITALIZED_COUNT', 'DEATH_COUNT']]\n",
    "\n",
    "# select required data between dates 2021-12-01 and 2022-02-28\n",
    "covid_df_selected['date_of_interest'] = pd.to_datetime(covid_df_selected['date_of_interest'], format='%m/%d/%Y')\n",
    "mask = (covid_df_selected['date_of_interest'] >= '2021-12-01') & (covid_df_selected['date_of_interest'] <= '2022-2-28')\n",
    "covid_df_selected = covid_df_selected.loc[mask]\n",
    "\n",
    "covid_df_selected.to_parquet('../data/curated/nyc_covid_2021-2022_clean.parquet')"
   ]
  },
  {
   "cell_type": "code",
   "execution_count": null,
   "metadata": {},
   "outputs": [],
   "source": []
  }
 ],
 "metadata": {
  "kernelspec": {
   "display_name": "Python 3.10.4 64-bit",
   "language": "python",
   "name": "python3"
  },
  "language_info": {
   "codemirror_mode": {
    "name": "ipython",
    "version": 3
   },
   "file_extension": ".py",
   "mimetype": "text/x-python",
   "name": "python",
   "nbconvert_exporter": "python",
   "pygments_lexer": "ipython3",
   "version": "3.10.4"
  },
  "latex_envs": {
   "LaTeX_envs_menu_present": true,
   "autoclose": false,
   "autocomplete": true,
   "bibliofile": "biblio.bib",
   "cite_by": "apalike",
   "current_citInitial": 1,
   "eqLabelWithNumbers": true,
   "eqNumInitial": 1,
   "hotkeys": {
    "equation": "Ctrl-E",
    "itemize": "Ctrl-I"
   },
   "labels_anchors": false,
   "latex_user_defs": false,
   "report_style_numbering": false,
   "user_envs_cfg": false
  },
  "toc": {
   "base_numbering": 1,
   "nav_menu": {},
   "number_sections": true,
   "sideBar": true,
   "skip_h1_title": false,
   "title_cell": "Table of Contents",
   "title_sidebar": "Contents",
   "toc_cell": false,
   "toc_position": {},
   "toc_section_display": true,
   "toc_window_display": false
  },
  "varInspector": {
   "cols": {
    "lenName": 16,
    "lenType": 16,
    "lenVar": 40
   },
   "kernels_config": {
    "python": {
     "delete_cmd_postfix": "",
     "delete_cmd_prefix": "del ",
     "library": "var_list.py",
     "varRefreshCmd": "print(var_dic_list())"
    },
    "r": {
     "delete_cmd_postfix": ") ",
     "delete_cmd_prefix": "rm(",
     "library": "var_list.r",
     "varRefreshCmd": "cat(var_dic_list()) "
    }
   },
   "types_to_exclude": [
    "module",
    "function",
    "builtin_function_or_method",
    "instance",
    "_Feature"
   ],
   "window_display": false
  },
  "vscode": {
   "interpreter": {
    "hash": "916dbcbb3f70747c44a77c7bcd40155683ae19c65e1c03b4aa3499c5328201f1"
   }
  }
 },
 "nbformat": 4,
 "nbformat_minor": 4
}
