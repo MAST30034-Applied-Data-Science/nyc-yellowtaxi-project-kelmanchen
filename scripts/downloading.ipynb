{
 "cells": [
  {
   "cell_type": "markdown",
   "metadata": {
    "heading_collapsed": true
   },
   "source": [
    "This notebook downloads the following raw data for the period Dec 2019 to Feb 2020 and Dec 2021 to Feb 2022:\n",
    "- NYC Yellow Taxi Data \n",
    "- NYC For Hire Vehicles High Volume (FHVHV) Data\n",
    "- NYC COVID-19 Data (Dec 2021-Feb 2022 only)"
   ]
  },
  {
   "cell_type": "code",
   "execution_count": 17,
   "metadata": {},
   "outputs": [],
   "source": [
    "from urllib.request import urlretrieve\n",
    "import os\n",
    "\n",
    "output_relative_dir = '../data/raw/'\n",
    "\n",
    "if not os.path.exists(output_relative_dir):\n",
    "    os.makedirs(output_relative_dir)\n",
    "\n",
    "if not os.path.exists(output_relative_dir + 'NYC TLC Data'):\n",
    "    os.makedirs(output_relative_dir + 'NYC TLC Data')\n",
    "\n",
    "if not os.path.exists(output_relative_dir + \"External Data\"):\n",
    "    os.makedirs(output_relative_dir + \"External Data\")"
   ]
  },
  {
   "cell_type": "code",
   "execution_count": 3,
   "metadata": {},
   "outputs": [
    {
     "name": "stdout",
     "output_type": "stream",
     "text": [
      "Completed downloading yellow_tripdata_2019-12.parquet\n",
      "Completed downloading yellow_tripdata_2020-01.parquet\n",
      "Completed downloading yellow_tripdata_2020-02.parquet\n",
      "Completed downloading yellow_tripdata_2021-12.parquet\n",
      "Completed downloading yellow_tripdata_2022-01.parquet\n",
      "Completed downloading yellow_tripdata_2022-02.parquet\n",
      "Completed downloading fhvhv_tripdata_2019-12.parquet\n",
      "Completed downloading fhvhv_tripdata_2020-01.parquet\n",
      "Completed downloading fhvhv_tripdata_2020-02.parquet\n",
      "Completed downloading fhvhv_tripdata_2021-12.parquet\n",
      "Completed downloading fhvhv_tripdata_2022-01.parquet\n",
      "Completed downloading fhvhv_tripdata_2022-02.parquet\n"
     ]
    }
   ],
   "source": [
    "URL_TEMPLATE = \"https://d37ci6vzurychx.cloudfront.net/trip-data/\"\n",
    "\n",
    "def tlc_data_download(name, year, month):\n",
    "    \n",
    "    month = str(month).zfill(2)\n",
    "\n",
    "    output_dir = f\"{name}_tripdata_{year}-{month}.parquet\"\n",
    "    url =f'{URL_TEMPLATE}{output_dir}'\n",
    "\n",
    "    urlretrieve(url, f\"{output_relative_dir}NYC TLC Data/{output_dir}\")\n",
    "    print(f\"Completed downloading {output_dir}\")\n",
    "\n",
    "for name in ('yellow', 'fhvhv'):\n",
    "    tlc_data_download(name, 2019, 12)\n",
    "    tlc_data_download(name, 2020, 1)\n",
    "    tlc_data_download(name, 2020, 2)\n",
    "    tlc_data_download(name, 2021, 12)\n",
    "    tlc_data_download(name, 2022, 1)\n",
    "    tlc_data_download(name, 2022, 2)"
   ]
  },
  {
   "cell_type": "code",
   "execution_count": null,
   "metadata": {},
   "outputs": [],
   "source": [
    "zone_lookup_url = 'https://d37ci6vzurychx.cloudfront.net/misc/taxi+_zone_lookup.csv'\n",
    "zone_url = 'https://d37ci6vzurychx.cloudfront.net/misc/taxi_zones.zip'\n",
    "zone_lookup_dir = 'taxi_zones_lookup.csv'\n",
    "zone_url_dir = 'taxi_zones.csv'\n",
    "\n",
    "urlretrieve(zone_lookup_url, f\"{output_relative_dir}{covid_output_dir}\")\n"
   ]
  },
  {
   "cell_type": "code",
   "execution_count": 9,
   "metadata": {},
   "outputs": [
    {
     "name": "stdout",
     "output_type": "stream",
     "text": [
      "Completed downloading COVID-19_Daily_Counts_of_Cases__Hospitalizations__and_Deaths.csv\n"
     ]
    }
   ],
   "source": [
    "covid_url = 'https://data.cityofnewyork.us/api/views/rc75-m7u3/rows.csv?accessType=DOWNLOAD'\n",
    "covid_output_dir = 'COVID-19_Daily_Counts_of_Cases__Hospitalizations__and_Deaths.csv'\n",
    "urlretrieve(covid_url, f\"{output_relative_dir}External Data/{covid_output_dir}\")\n",
    "print(f\"Completed downloading {covid_output_dir}\")"
   ]
  }
 ],
 "metadata": {
  "kernelspec": {
   "display_name": "Python 3.10.4 64-bit",
   "language": "python",
   "name": "python3"
  },
  "language_info": {
   "codemirror_mode": {
    "name": "ipython",
    "version": 3
   },
   "file_extension": ".py",
   "mimetype": "text/x-python",
   "name": "python",
   "nbconvert_exporter": "python",
   "pygments_lexer": "ipython3",
   "version": "3.10.4"
  },
  "latex_envs": {
   "LaTeX_envs_menu_present": true,
   "autoclose": false,
   "autocomplete": true,
   "bibliofile": "biblio.bib",
   "cite_by": "apalike",
   "current_citInitial": 1,
   "eqLabelWithNumbers": true,
   "eqNumInitial": 1,
   "hotkeys": {
    "equation": "Ctrl-E",
    "itemize": "Ctrl-I"
   },
   "labels_anchors": false,
   "latex_user_defs": false,
   "report_style_numbering": false,
   "user_envs_cfg": false
  },
  "toc": {
   "base_numbering": 1,
   "nav_menu": {},
   "number_sections": true,
   "sideBar": true,
   "skip_h1_title": false,
   "title_cell": "Table of Contents",
   "title_sidebar": "Contents",
   "toc_cell": false,
   "toc_position": {},
   "toc_section_display": true,
   "toc_window_display": false
  },
  "varInspector": {
   "cols": {
    "lenName": 16,
    "lenType": 16,
    "lenVar": 40
   },
   "kernels_config": {
    "python": {
     "delete_cmd_postfix": "",
     "delete_cmd_prefix": "del ",
     "library": "var_list.py",
     "varRefreshCmd": "print(var_dic_list())"
    },
    "r": {
     "delete_cmd_postfix": ") ",
     "delete_cmd_prefix": "rm(",
     "library": "var_list.r",
     "varRefreshCmd": "cat(var_dic_list()) "
    }
   },
   "types_to_exclude": [
    "module",
    "function",
    "builtin_function_or_method",
    "instance",
    "_Feature"
   ],
   "window_display": false
  },
  "vscode": {
   "interpreter": {
    "hash": "916dbcbb3f70747c44a77c7bcd40155683ae19c65e1c03b4aa3499c5328201f1"
   }
  }
 },
 "nbformat": 4,
 "nbformat_minor": 4
}
